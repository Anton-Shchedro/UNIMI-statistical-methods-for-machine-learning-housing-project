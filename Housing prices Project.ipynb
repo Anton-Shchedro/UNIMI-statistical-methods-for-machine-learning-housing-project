{
 "cells": [
  {
   "cell_type": "markdown",
   "metadata": {},
   "source": [
    "## Read dataset with pandas"
   ]
  },
  {
   "cell_type": "code",
   "execution_count": 2,
   "metadata": {},
   "outputs": [],
   "source": [
    "import pandas as pd\n",
    "import numpy as np\n",
    "import matplotlib.pyplot as plt"
   ]
  },
  {
   "cell_type": "code",
   "execution_count": 3,
   "metadata": {},
   "outputs": [
    {
     "data": {
      "text/html": [
       "<div>\n",
       "<style scoped>\n",
       "    .dataframe tbody tr th:only-of-type {\n",
       "        vertical-align: middle;\n",
       "    }\n",
       "\n",
       "    .dataframe tbody tr th {\n",
       "        vertical-align: top;\n",
       "    }\n",
       "\n",
       "    .dataframe thead th {\n",
       "        text-align: right;\n",
       "    }\n",
       "</style>\n",
       "<table border=\"1\" class=\"dataframe\">\n",
       "  <thead>\n",
       "    <tr style=\"text-align: right;\">\n",
       "      <th></th>\n",
       "      <th>longitude</th>\n",
       "      <th>latitude</th>\n",
       "      <th>housing_median_age</th>\n",
       "      <th>total_rooms</th>\n",
       "      <th>total_bedrooms</th>\n",
       "      <th>population</th>\n",
       "      <th>households</th>\n",
       "      <th>median_income</th>\n",
       "      <th>median_house_value</th>\n",
       "      <th>ocean_proximity</th>\n",
       "    </tr>\n",
       "  </thead>\n",
       "  <tbody>\n",
       "    <tr>\n",
       "      <th>0</th>\n",
       "      <td>-122.23</td>\n",
       "      <td>37.88</td>\n",
       "      <td>41.0</td>\n",
       "      <td>880.0</td>\n",
       "      <td>129.0</td>\n",
       "      <td>322.0</td>\n",
       "      <td>126.0</td>\n",
       "      <td>8.3252</td>\n",
       "      <td>452600.0</td>\n",
       "      <td>NEAR BAY</td>\n",
       "    </tr>\n",
       "    <tr>\n",
       "      <th>1</th>\n",
       "      <td>-122.22</td>\n",
       "      <td>37.86</td>\n",
       "      <td>21.0</td>\n",
       "      <td>7099.0</td>\n",
       "      <td>1106.0</td>\n",
       "      <td>2401.0</td>\n",
       "      <td>1138.0</td>\n",
       "      <td>8.3014</td>\n",
       "      <td>358500.0</td>\n",
       "      <td>NEAR BAY</td>\n",
       "    </tr>\n",
       "    <tr>\n",
       "      <th>2</th>\n",
       "      <td>-122.24</td>\n",
       "      <td>37.85</td>\n",
       "      <td>52.0</td>\n",
       "      <td>1467.0</td>\n",
       "      <td>190.0</td>\n",
       "      <td>496.0</td>\n",
       "      <td>177.0</td>\n",
       "      <td>7.2574</td>\n",
       "      <td>352100.0</td>\n",
       "      <td>NEAR BAY</td>\n",
       "    </tr>\n",
       "    <tr>\n",
       "      <th>3</th>\n",
       "      <td>-122.25</td>\n",
       "      <td>37.85</td>\n",
       "      <td>52.0</td>\n",
       "      <td>1274.0</td>\n",
       "      <td>235.0</td>\n",
       "      <td>558.0</td>\n",
       "      <td>219.0</td>\n",
       "      <td>5.6431</td>\n",
       "      <td>341300.0</td>\n",
       "      <td>NEAR BAY</td>\n",
       "    </tr>\n",
       "    <tr>\n",
       "      <th>4</th>\n",
       "      <td>-122.25</td>\n",
       "      <td>37.85</td>\n",
       "      <td>52.0</td>\n",
       "      <td>1627.0</td>\n",
       "      <td>280.0</td>\n",
       "      <td>565.0</td>\n",
       "      <td>259.0</td>\n",
       "      <td>3.8462</td>\n",
       "      <td>342200.0</td>\n",
       "      <td>NEAR BAY</td>\n",
       "    </tr>\n",
       "    <tr>\n",
       "      <th>...</th>\n",
       "      <td>...</td>\n",
       "      <td>...</td>\n",
       "      <td>...</td>\n",
       "      <td>...</td>\n",
       "      <td>...</td>\n",
       "      <td>...</td>\n",
       "      <td>...</td>\n",
       "      <td>...</td>\n",
       "      <td>...</td>\n",
       "      <td>...</td>\n",
       "    </tr>\n",
       "    <tr>\n",
       "      <th>20635</th>\n",
       "      <td>-121.09</td>\n",
       "      <td>39.48</td>\n",
       "      <td>25.0</td>\n",
       "      <td>1665.0</td>\n",
       "      <td>374.0</td>\n",
       "      <td>845.0</td>\n",
       "      <td>330.0</td>\n",
       "      <td>1.5603</td>\n",
       "      <td>78100.0</td>\n",
       "      <td>INLAND</td>\n",
       "    </tr>\n",
       "    <tr>\n",
       "      <th>20636</th>\n",
       "      <td>-121.21</td>\n",
       "      <td>39.49</td>\n",
       "      <td>18.0</td>\n",
       "      <td>697.0</td>\n",
       "      <td>150.0</td>\n",
       "      <td>356.0</td>\n",
       "      <td>114.0</td>\n",
       "      <td>2.5568</td>\n",
       "      <td>77100.0</td>\n",
       "      <td>INLAND</td>\n",
       "    </tr>\n",
       "    <tr>\n",
       "      <th>20637</th>\n",
       "      <td>-121.22</td>\n",
       "      <td>39.43</td>\n",
       "      <td>17.0</td>\n",
       "      <td>2254.0</td>\n",
       "      <td>485.0</td>\n",
       "      <td>1007.0</td>\n",
       "      <td>433.0</td>\n",
       "      <td>1.7000</td>\n",
       "      <td>92300.0</td>\n",
       "      <td>INLAND</td>\n",
       "    </tr>\n",
       "    <tr>\n",
       "      <th>20638</th>\n",
       "      <td>-121.32</td>\n",
       "      <td>39.43</td>\n",
       "      <td>18.0</td>\n",
       "      <td>1860.0</td>\n",
       "      <td>409.0</td>\n",
       "      <td>741.0</td>\n",
       "      <td>349.0</td>\n",
       "      <td>1.8672</td>\n",
       "      <td>84700.0</td>\n",
       "      <td>INLAND</td>\n",
       "    </tr>\n",
       "    <tr>\n",
       "      <th>20639</th>\n",
       "      <td>-121.24</td>\n",
       "      <td>39.37</td>\n",
       "      <td>16.0</td>\n",
       "      <td>2785.0</td>\n",
       "      <td>616.0</td>\n",
       "      <td>1387.0</td>\n",
       "      <td>530.0</td>\n",
       "      <td>2.3886</td>\n",
       "      <td>89400.0</td>\n",
       "      <td>INLAND</td>\n",
       "    </tr>\n",
       "  </tbody>\n",
       "</table>\n",
       "<p>20640 rows × 10 columns</p>\n",
       "</div>"
      ],
      "text/plain": [
       "       longitude  latitude  housing_median_age  total_rooms  total_bedrooms  \\\n",
       "0        -122.23     37.88                41.0        880.0           129.0   \n",
       "1        -122.22     37.86                21.0       7099.0          1106.0   \n",
       "2        -122.24     37.85                52.0       1467.0           190.0   \n",
       "3        -122.25     37.85                52.0       1274.0           235.0   \n",
       "4        -122.25     37.85                52.0       1627.0           280.0   \n",
       "...          ...       ...                 ...          ...             ...   \n",
       "20635    -121.09     39.48                25.0       1665.0           374.0   \n",
       "20636    -121.21     39.49                18.0        697.0           150.0   \n",
       "20637    -121.22     39.43                17.0       2254.0           485.0   \n",
       "20638    -121.32     39.43                18.0       1860.0           409.0   \n",
       "20639    -121.24     39.37                16.0       2785.0           616.0   \n",
       "\n",
       "       population  households  median_income  median_house_value  \\\n",
       "0           322.0       126.0         8.3252            452600.0   \n",
       "1          2401.0      1138.0         8.3014            358500.0   \n",
       "2           496.0       177.0         7.2574            352100.0   \n",
       "3           558.0       219.0         5.6431            341300.0   \n",
       "4           565.0       259.0         3.8462            342200.0   \n",
       "...           ...         ...            ...                 ...   \n",
       "20635       845.0       330.0         1.5603             78100.0   \n",
       "20636       356.0       114.0         2.5568             77100.0   \n",
       "20637      1007.0       433.0         1.7000             92300.0   \n",
       "20638       741.0       349.0         1.8672             84700.0   \n",
       "20639      1387.0       530.0         2.3886             89400.0   \n",
       "\n",
       "      ocean_proximity  \n",
       "0            NEAR BAY  \n",
       "1            NEAR BAY  \n",
       "2            NEAR BAY  \n",
       "3            NEAR BAY  \n",
       "4            NEAR BAY  \n",
       "...               ...  \n",
       "20635          INLAND  \n",
       "20636          INLAND  \n",
       "20637          INLAND  \n",
       "20638          INLAND  \n",
       "20639          INLAND  \n",
       "\n",
       "[20640 rows x 10 columns]"
      ]
     },
     "execution_count": 3,
     "metadata": {},
     "output_type": "execute_result"
    }
   ],
   "source": [
    "df = pd.read_csv('cal-housing.csv')\n",
    "df"
   ]
  },
  {
   "cell_type": "markdown",
   "metadata": {},
   "source": [
    "## Check NaN values"
   ]
  },
  {
   "cell_type": "code",
   "execution_count": 4,
   "metadata": {
    "scrolled": true
   },
   "outputs": [
    {
     "data": {
      "text/html": [
       "<div>\n",
       "<style scoped>\n",
       "    .dataframe tbody tr th:only-of-type {\n",
       "        vertical-align: middle;\n",
       "    }\n",
       "\n",
       "    .dataframe tbody tr th {\n",
       "        vertical-align: top;\n",
       "    }\n",
       "\n",
       "    .dataframe thead th {\n",
       "        text-align: right;\n",
       "    }\n",
       "</style>\n",
       "<table border=\"1\" class=\"dataframe\">\n",
       "  <thead>\n",
       "    <tr style=\"text-align: right;\">\n",
       "      <th></th>\n",
       "      <th>longitude</th>\n",
       "      <th>latitude</th>\n",
       "      <th>housing_median_age</th>\n",
       "      <th>total_rooms</th>\n",
       "      <th>total_bedrooms</th>\n",
       "      <th>population</th>\n",
       "      <th>households</th>\n",
       "      <th>median_income</th>\n",
       "      <th>median_house_value</th>\n",
       "      <th>ocean_proximity</th>\n",
       "    </tr>\n",
       "  </thead>\n",
       "  <tbody>\n",
       "    <tr>\n",
       "      <th>290</th>\n",
       "      <td>-122.16</td>\n",
       "      <td>37.77</td>\n",
       "      <td>47.0</td>\n",
       "      <td>1256.0</td>\n",
       "      <td>NaN</td>\n",
       "      <td>570.0</td>\n",
       "      <td>218.0</td>\n",
       "      <td>4.3750</td>\n",
       "      <td>161900.0</td>\n",
       "      <td>NEAR BAY</td>\n",
       "    </tr>\n",
       "    <tr>\n",
       "      <th>341</th>\n",
       "      <td>-122.17</td>\n",
       "      <td>37.75</td>\n",
       "      <td>38.0</td>\n",
       "      <td>992.0</td>\n",
       "      <td>NaN</td>\n",
       "      <td>732.0</td>\n",
       "      <td>259.0</td>\n",
       "      <td>1.6196</td>\n",
       "      <td>85100.0</td>\n",
       "      <td>NEAR BAY</td>\n",
       "    </tr>\n",
       "    <tr>\n",
       "      <th>538</th>\n",
       "      <td>-122.28</td>\n",
       "      <td>37.78</td>\n",
       "      <td>29.0</td>\n",
       "      <td>5154.0</td>\n",
       "      <td>NaN</td>\n",
       "      <td>3741.0</td>\n",
       "      <td>1273.0</td>\n",
       "      <td>2.5762</td>\n",
       "      <td>173400.0</td>\n",
       "      <td>NEAR BAY</td>\n",
       "    </tr>\n",
       "    <tr>\n",
       "      <th>563</th>\n",
       "      <td>-122.24</td>\n",
       "      <td>37.75</td>\n",
       "      <td>45.0</td>\n",
       "      <td>891.0</td>\n",
       "      <td>NaN</td>\n",
       "      <td>384.0</td>\n",
       "      <td>146.0</td>\n",
       "      <td>4.9489</td>\n",
       "      <td>247100.0</td>\n",
       "      <td>NEAR BAY</td>\n",
       "    </tr>\n",
       "    <tr>\n",
       "      <th>696</th>\n",
       "      <td>-122.10</td>\n",
       "      <td>37.69</td>\n",
       "      <td>41.0</td>\n",
       "      <td>746.0</td>\n",
       "      <td>NaN</td>\n",
       "      <td>387.0</td>\n",
       "      <td>161.0</td>\n",
       "      <td>3.9063</td>\n",
       "      <td>178400.0</td>\n",
       "      <td>NEAR BAY</td>\n",
       "    </tr>\n",
       "    <tr>\n",
       "      <th>...</th>\n",
       "      <td>...</td>\n",
       "      <td>...</td>\n",
       "      <td>...</td>\n",
       "      <td>...</td>\n",
       "      <td>...</td>\n",
       "      <td>...</td>\n",
       "      <td>...</td>\n",
       "      <td>...</td>\n",
       "      <td>...</td>\n",
       "      <td>...</td>\n",
       "    </tr>\n",
       "    <tr>\n",
       "      <th>20267</th>\n",
       "      <td>-119.19</td>\n",
       "      <td>34.20</td>\n",
       "      <td>18.0</td>\n",
       "      <td>3620.0</td>\n",
       "      <td>NaN</td>\n",
       "      <td>3171.0</td>\n",
       "      <td>779.0</td>\n",
       "      <td>3.3409</td>\n",
       "      <td>220500.0</td>\n",
       "      <td>NEAR OCEAN</td>\n",
       "    </tr>\n",
       "    <tr>\n",
       "      <th>20268</th>\n",
       "      <td>-119.18</td>\n",
       "      <td>34.19</td>\n",
       "      <td>19.0</td>\n",
       "      <td>2393.0</td>\n",
       "      <td>NaN</td>\n",
       "      <td>1938.0</td>\n",
       "      <td>762.0</td>\n",
       "      <td>1.6953</td>\n",
       "      <td>167400.0</td>\n",
       "      <td>NEAR OCEAN</td>\n",
       "    </tr>\n",
       "    <tr>\n",
       "      <th>20372</th>\n",
       "      <td>-118.88</td>\n",
       "      <td>34.17</td>\n",
       "      <td>15.0</td>\n",
       "      <td>4260.0</td>\n",
       "      <td>NaN</td>\n",
       "      <td>1701.0</td>\n",
       "      <td>669.0</td>\n",
       "      <td>5.1033</td>\n",
       "      <td>410700.0</td>\n",
       "      <td>&lt;1H OCEAN</td>\n",
       "    </tr>\n",
       "    <tr>\n",
       "      <th>20460</th>\n",
       "      <td>-118.75</td>\n",
       "      <td>34.29</td>\n",
       "      <td>17.0</td>\n",
       "      <td>5512.0</td>\n",
       "      <td>NaN</td>\n",
       "      <td>2734.0</td>\n",
       "      <td>814.0</td>\n",
       "      <td>6.6073</td>\n",
       "      <td>258100.0</td>\n",
       "      <td>&lt;1H OCEAN</td>\n",
       "    </tr>\n",
       "    <tr>\n",
       "      <th>20484</th>\n",
       "      <td>-118.72</td>\n",
       "      <td>34.28</td>\n",
       "      <td>17.0</td>\n",
       "      <td>3051.0</td>\n",
       "      <td>NaN</td>\n",
       "      <td>1705.0</td>\n",
       "      <td>495.0</td>\n",
       "      <td>5.7376</td>\n",
       "      <td>218600.0</td>\n",
       "      <td>&lt;1H OCEAN</td>\n",
       "    </tr>\n",
       "  </tbody>\n",
       "</table>\n",
       "<p>207 rows × 10 columns</p>\n",
       "</div>"
      ],
      "text/plain": [
       "       longitude  latitude  housing_median_age  total_rooms  total_bedrooms  \\\n",
       "290      -122.16     37.77                47.0       1256.0             NaN   \n",
       "341      -122.17     37.75                38.0        992.0             NaN   \n",
       "538      -122.28     37.78                29.0       5154.0             NaN   \n",
       "563      -122.24     37.75                45.0        891.0             NaN   \n",
       "696      -122.10     37.69                41.0        746.0             NaN   \n",
       "...          ...       ...                 ...          ...             ...   \n",
       "20267    -119.19     34.20                18.0       3620.0             NaN   \n",
       "20268    -119.18     34.19                19.0       2393.0             NaN   \n",
       "20372    -118.88     34.17                15.0       4260.0             NaN   \n",
       "20460    -118.75     34.29                17.0       5512.0             NaN   \n",
       "20484    -118.72     34.28                17.0       3051.0             NaN   \n",
       "\n",
       "       population  households  median_income  median_house_value  \\\n",
       "290         570.0       218.0         4.3750            161900.0   \n",
       "341         732.0       259.0         1.6196             85100.0   \n",
       "538        3741.0      1273.0         2.5762            173400.0   \n",
       "563         384.0       146.0         4.9489            247100.0   \n",
       "696         387.0       161.0         3.9063            178400.0   \n",
       "...           ...         ...            ...                 ...   \n",
       "20267      3171.0       779.0         3.3409            220500.0   \n",
       "20268      1938.0       762.0         1.6953            167400.0   \n",
       "20372      1701.0       669.0         5.1033            410700.0   \n",
       "20460      2734.0       814.0         6.6073            258100.0   \n",
       "20484      1705.0       495.0         5.7376            218600.0   \n",
       "\n",
       "      ocean_proximity  \n",
       "290          NEAR BAY  \n",
       "341          NEAR BAY  \n",
       "538          NEAR BAY  \n",
       "563          NEAR BAY  \n",
       "696          NEAR BAY  \n",
       "...               ...  \n",
       "20267      NEAR OCEAN  \n",
       "20268      NEAR OCEAN  \n",
       "20372       <1H OCEAN  \n",
       "20460       <1H OCEAN  \n",
       "20484       <1H OCEAN  \n",
       "\n",
       "[207 rows x 10 columns]"
      ]
     },
     "execution_count": 4,
     "metadata": {},
     "output_type": "execute_result"
    }
   ],
   "source": [
    "dfNan = df[df.isna().any(axis=1)]\n",
    "dfNan"
   ]
  },
  {
   "cell_type": "code",
   "execution_count": 5,
   "metadata": {},
   "outputs": [
    {
     "data": {
      "text/plain": [
       "207"
      ]
     },
     "execution_count": 5,
     "metadata": {},
     "output_type": "execute_result"
    }
   ],
   "source": [
    "df['total_bedrooms'].isnull().sum()"
   ]
  },
  {
   "cell_type": "markdown",
   "metadata": {},
   "source": [
    "total_bedrooms - 207 NaN Values\n",
    "\n",
    "all other labels have no NaN values"
   ]
  },
  {
   "cell_type": "markdown",
   "metadata": {},
   "source": [
    "## Categorical values transformation:"
   ]
  },
  {
   "cell_type": "markdown",
   "metadata": {},
   "source": [
    "In our dataset only one value (column) is categorical: 'ocean_proximity'\n",
    "\n",
    "\n",
    "#### 2 possible solutions:\n",
    "\n",
    "1) If ocean_proximity is ordinal Data, we simply transform out data to int value in reverse order of dictanse to Ocean\n",
    "\n",
    "2) If ocean_proximity is nominal Data, we in a place of ocean_proximity column create n columns (where n is a number of unique possible values of ocean_proximity) and place 1 if comumn 'i' if value of ocean_proximity is equal to 'i' (One Hot Encoding)\n"
   ]
  },
  {
   "cell_type": "code",
   "execution_count": 6,
   "metadata": {},
   "outputs": [
    {
     "data": {
      "text/plain": [
       "array(['NEAR BAY', '<1H OCEAN', 'INLAND', 'NEAR OCEAN', 'ISLAND'],\n",
       "      dtype=object)"
      ]
     },
     "execution_count": 6,
     "metadata": {},
     "output_type": "execute_result"
    }
   ],
   "source": [
    "#unique values of ocean_proximity column\n",
    "\n",
    "df['ocean_proximity'].unique()"
   ]
  },
  {
   "cell_type": "markdown",
   "metadata": {},
   "source": [
    "#### Option 1:\n",
    "we can think our data in ocean_proximity column as ordinal Data, so we trasform ou stat in this values:\n",
    "\n",
    "INLAND     -> 0\n",
    "\n",
    "<1H OCEAN  -> 1\n",
    "\n",
    "NEAR BAY   -> 2\n",
    "\n",
    "NEAR OCEAN -> 3\n",
    "\n",
    "ISLAND     -> 4"
   ]
  },
  {
   "cell_type": "code",
   "execution_count": 7,
   "metadata": {},
   "outputs": [],
   "source": [
    "def ordDataTransform(dt):\n",
    "    data = dt.copy()\n",
    "    data = data.replace('INLAND',0)\n",
    "    data = data.replace('<1H OCEAN',1)\n",
    "    data = data.replace('NEAR BAY',2)\n",
    "    data = data.replace('NEAR OCEAN',3)\n",
    "    data = data.replace('ISLAND',4)\n",
    "    return data\n",
    "\n",
    "#ordData = ordDataTransform(df)"
   ]
  },
  {
   "cell_type": "markdown",
   "metadata": {},
   "source": [
    "#### Option 2:\n",
    "\n",
    "We can transform our column of categorical data to multiple columns:\n",
    "\n",
    "1) create new columns 'INLAND','<1H OCEAN','NEAR BAY','NEAR OCEAN','ISLAND' with binary possible values (1 in column 'i' in row j if in column 'ocean_proximity' and row j  value is equal to 'i', 0 otherwise) \n",
    "\n",
    "2) delete 'ocean_proximity' column\n",
    "\n",
    "\n",
    "##### Solution from pandas library: pd.get_dummies(df, ['ocean_proximity'])"
   ]
  },
  {
   "cell_type": "code",
   "execution_count": 8,
   "metadata": {},
   "outputs": [],
   "source": [
    "def nomDataTransform(data):\n",
    "    return pd.get_dummies(data,['ocean_proximity'])\n",
    "\n",
    "#norm = nomDataTransform(df)"
   ]
  },
  {
   "cell_type": "markdown",
   "metadata": {},
   "source": [
    "## Methods to deal with Nan Values:\n",
    "\n",
    "1 - row elimination\n",
    "\n",
    "2 - apply to NaN value of mean value of the column\n",
    "\n",
    "3 - apply to NaN value of mode value of the column"
   ]
  },
  {
   "cell_type": "markdown",
   "metadata": {},
   "source": [
    "### 1) Row elimination"
   ]
  },
  {
   "cell_type": "code",
   "execution_count": 9,
   "metadata": {},
   "outputs": [],
   "source": [
    "def elimdf(data):\n",
    "    eldf = data.dropna()\n",
    "    return eldf\n",
    "\n",
    "# eldf = elimdf(df)"
   ]
  },
  {
   "cell_type": "markdown",
   "metadata": {},
   "source": [
    "### 2) Mean value"
   ]
  },
  {
   "cell_type": "code",
   "execution_count": 10,
   "metadata": {},
   "outputs": [],
   "source": [
    "def meandf(data):\n",
    "    meandf = data.fillna(round(df.mean()))\n",
    "    return meandf\n",
    "\n",
    "# meandf = meandf(df)"
   ]
  },
  {
   "cell_type": "markdown",
   "metadata": {},
   "source": [
    "### 3) Mode"
   ]
  },
  {
   "cell_type": "code",
   "execution_count": 11,
   "metadata": {},
   "outputs": [],
   "source": [
    "def modedf(data):\n",
    "    mode = df['total_bedrooms'].mode()\n",
    "    modedf = data.copy()\n",
    "    modedf['total_bedrooms'] = data['total_bedrooms'].fillna(mode[0])\n",
    "    return modedf\n",
    "\n",
    "#modedf = modedf(df)"
   ]
  },
  {
   "cell_type": "markdown",
   "metadata": {},
   "source": [
    "## Ridge regression"
   ]
  },
  {
   "cell_type": "markdown",
   "metadata": {},
   "source": [
    "Creation of Training Set and Test Set"
   ]
  },
  {
   "cell_type": "code",
   "execution_count": 12,
   "metadata": {},
   "outputs": [],
   "source": [
    "def splitData(data):\n",
    "    train=data.sample(frac=0.8)\n",
    "    test=data.drop(train.index)\n",
    "    return train,test\n",
    "\n",
    "#Train, Test = splitData(df)"
   ]
  },
  {
   "cell_type": "markdown",
   "metadata": {},
   "source": [
    "Creation of Training Set and Cross-Validation Set from Training Set made by splitData()"
   ]
  },
  {
   "cell_type": "code",
   "execution_count": 13,
   "metadata": {},
   "outputs": [],
   "source": [
    "def crossSplitTrain(data,k,kMax): #with k,kMax >= 1\n",
    "    n = len(data)//kMax\n",
    "    cross = data.iloc[(n*(k-1)):(n*k),:]\n",
    "    train = data.drop(cross.index)\n",
    "    return cross,train\n",
    "\n",
    "#cross, test = crossSplitTrain(df,1,10)"
   ]
  },
  {
   "cell_type": "markdown",
   "metadata": {},
   "source": [
    "Creation of X and Y Sets\n",
    "\n",
    "X need aditional column with 1 in each value for Bias"
   ]
  },
  {
   "cell_type": "code",
   "execution_count": 29,
   "metadata": {},
   "outputs": [],
   "source": [
    "#addVal is boolean value, when true add \"add\" to every entry of our data as new feature, 1 by default\n",
    "def splitAnswer(data, columnName,addVal,add = 1):\n",
    "    y = data[columnName]\n",
    "    x = data.drop(columns=[columnName])\n",
    "    if addVal == True:\n",
    "        x.insert(0,\"ones\", add)\n",
    "    return x,y"
   ]
  },
  {
   "cell_type": "markdown",
   "metadata": {},
   "source": [
    "Normalization (transform all data in range from -1 to 1)"
   ]
  },
  {
   "cell_type": "code",
   "execution_count": 15,
   "metadata": {},
   "outputs": [],
   "source": [
    "def normalization(data):\n",
    "    result = data.copy()\n",
    "    for column in data.columns:\n",
    "        mean = data[column].mean()\n",
    "        s = data[column].max()-data[column].min()\n",
    "        result[column] = (data[column] - mean)/s\n",
    "    return result"
   ]
  },
  {
   "cell_type": "code",
   "execution_count": 16,
   "metadata": {},
   "outputs": [],
   "source": [
    "def dataPreparetionColumn(data,catDataMeth,nanMeth,norm,yColumn):\n",
    "    if norm == True:\n",
    "        dt = data.drop([yColumn], axis=1)\n",
    "        result = normalization(nanMeth(catDataMeth(dt)))\n",
    "        result.insert(1, yColumn, data[yColumn], True)\n",
    "    else:\n",
    "        result = nanMeth(catDataMeth(data))\n",
    "    result = result.sample(frac=1).reset_index(drop=True)\n",
    "    return result\n",
    "\n",
    "# train, test = dataPreparetion(train,test,catDataMeth,nanMeth,True,'median_house_value')"
   ]
  },
  {
   "cell_type": "markdown",
   "metadata": {},
   "source": [
    "#### For our Ridge Regression I'll use closed form solution"
   ]
  },
  {
   "cell_type": "markdown",
   "metadata": {},
   "source": [
    "#### Ridge Regression"
   ]
  },
  {
   "cell_type": "code",
   "execution_count": 17,
   "metadata": {},
   "outputs": [],
   "source": [
    "def rr(dfX,dfY,alpha):\n",
    "    ind = np.identity(dfX.T.shape[0])# create identity matrix\n",
    "    inv = np.linalg.inv(np.dot(alpha,ind) + np.dot(dfX.T.to_numpy(),dfX.to_numpy()))\n",
    "    a = np.dot(dfX.T.to_numpy(),dfY.to_numpy())\n",
    "    w = np.dot(inv,a)\n",
    "    return w"
   ]
  },
  {
   "cell_type": "markdown",
   "metadata": {},
   "source": [
    "#### Error"
   ]
  },
  {
   "cell_type": "code",
   "execution_count": 18,
   "metadata": {},
   "outputs": [],
   "source": [
    "def cv_error(x,y,w):\n",
    "    a = y - np.dot(x,w)\n",
    "    cost = np.dot(a.T,a)\n",
    "    return cost"
   ]
  },
  {
   "cell_type": "markdown",
   "metadata": {},
   "source": [
    "Try our ridge regression with parameter alpha = 1e-3 and mean value and ordinal data reansformation"
   ]
  },
  {
   "cell_type": "code",
   "execution_count": 19,
   "metadata": {},
   "outputs": [],
   "source": [
    "modelCVData = df.copy()\n",
    "modelCVData = modelCVData.sample(frac=1).reset_index(drop=True)"
   ]
  },
  {
   "cell_type": "code",
   "execution_count": 30,
   "metadata": {},
   "outputs": [],
   "source": [
    "def choose_method(catDataMeth,nanMeth,alpha,i,k):\n",
    "    data = nanMeth(catDataMeth(modelCVData))\n",
    "    test,train = crossSplitTrain(data,i,k)\n",
    "    dfX,dfY = splitAnswer(train,'median_house_value',True,1)\n",
    "    testX,testY = splitAnswer(test,'median_house_value',True,1)\n",
    "    w = rr(dfX,dfY,alpha)\n",
    "    \n",
    "    error = cv_error(testX.to_numpy(),testY.to_numpy(),w)\n",
    "    return error"
   ]
  },
  {
   "cell_type": "code",
   "execution_count": 31,
   "metadata": {},
   "outputs": [
    {
     "name": "stdout",
     "output_type": "stream",
     "text": [
      "4835110750.814886\n"
     ]
    }
   ],
   "source": [
    "error = 0\n",
    "k = 5\n",
    "for i in range(1,k+1): #5 folds\n",
    "    error += (k/len(df))*choose_method(ordDataTransform,meandf,1e-3,i,k)\n",
    "print(error/k)"
   ]
  },
  {
   "cell_type": "markdown",
   "metadata": {},
   "source": [
    "mean value and nominal data"
   ]
  },
  {
   "cell_type": "code",
   "execution_count": 32,
   "metadata": {},
   "outputs": [
    {
     "name": "stdout",
     "output_type": "stream",
     "text": [
      "4749115506.432557\n"
     ]
    }
   ],
   "source": [
    "error = 0\n",
    "k = 5\n",
    "for i in range(1,k+1): #5 folds\n",
    "    error += (k/len(df))*choose_method(nomDataTransform,meandf,1e-3,i,k)\n",
    "print(error/k)"
   ]
  },
  {
   "cell_type": "markdown",
   "metadata": {},
   "source": [
    "Row Elimination ordinal"
   ]
  },
  {
   "cell_type": "code",
   "execution_count": 33,
   "metadata": {},
   "outputs": [
    {
     "name": "stdout",
     "output_type": "stream",
     "text": [
      "4775694783.700844\n"
     ]
    }
   ],
   "source": [
    "error = 0\n",
    "k = 5\n",
    "for i in range(1,k+1): #5 folds\n",
    "    error += (k/len(df))*choose_method(ordDataTransform,elimdf,1e-3,i,k)\n",
    "print(error/k)"
   ]
  },
  {
   "cell_type": "markdown",
   "metadata": {},
   "source": [
    "Row Elimination nominal"
   ]
  },
  {
   "cell_type": "code",
   "execution_count": 34,
   "metadata": {},
   "outputs": [
    {
     "name": "stdout",
     "output_type": "stream",
     "text": [
      "4691325207.028249\n"
     ]
    }
   ],
   "source": [
    "error = 0\n",
    "k = 5\n",
    "for i in range(1,k+1): #5 folds\n",
    "    error += (k/len(df))*choose_method(nomDataTransform,elimdf,1e-3,i,k)\n",
    "print(error/k)"
   ]
  },
  {
   "cell_type": "markdown",
   "metadata": {},
   "source": [
    "Mode ordinal"
   ]
  },
  {
   "cell_type": "code",
   "execution_count": 35,
   "metadata": {},
   "outputs": [
    {
     "name": "stdout",
     "output_type": "stream",
     "text": [
      "4838270799.615375\n"
     ]
    }
   ],
   "source": [
    "error = 0\n",
    "k = 5\n",
    "for i in range(1,k+1): #5 folds\n",
    "    error += (k/len(df))*choose_method(ordDataTransform,modedf,1e-3,i,k)\n",
    "print(error/k)"
   ]
  },
  {
   "cell_type": "markdown",
   "metadata": {},
   "source": [
    "Mode nominal"
   ]
  },
  {
   "cell_type": "code",
   "execution_count": 36,
   "metadata": {},
   "outputs": [
    {
     "name": "stdout",
     "output_type": "stream",
     "text": [
      "4751440583.408632\n"
     ]
    }
   ],
   "source": [
    "error = 0\n",
    "k = 5\n",
    "for i in range(1,k+1): #5 folds\n",
    "    error += (k/len(df))*choose_method(nomDataTransform,modedf,1e-3,i,k)\n",
    "print(error/k)"
   ]
  },
  {
   "cell_type": "markdown",
   "metadata": {},
   "source": [
    "#### best result with row elimination + nominal transformation\n",
    "\n",
    "We can use row elimination without big loss of data, because rows with nan value is about 1% from all data."
   ]
  },
  {
   "cell_type": "markdown",
   "metadata": {},
   "source": [
    "### Study the dependence of the cross-validated risk estimate on the parameter alpha of ridge regression.\n",
    "\n",
    "Cross validation gives us possibility to evaluate our algorithms with different alpha parameter."
   ]
  },
  {
   "cell_type": "code",
   "execution_count": 52,
   "metadata": {},
   "outputs": [
    {
     "name": "stdout",
     "output_type": "stream",
     "text": [
      "[91161578890.29213, 4714162369.563407, 4688482724.306643, 4681860798.353528, 4682353308.043478, 4682368674.498791, 4682361600.49411, 4682361800.606013, 4682360320.516236, 4682346039.271105, 4682208013.5638, 4681272945.590259, 4684332672.180141, 4697488505.861308, 4937914127.957665, 5493338424.656612, 8272181302.196884, 16311250112.441542, 43041495603.29063]\n"
     ]
    },
    {
     "data": {
      "image/png": "[encoded data removed]",
      "text/plain": [
       "<Figure size 432x288 with 3 Axes>"
      ]
     },
     "metadata": {
      "needs_background": "light"
     },
     "output_type": "display_data"
    },
    {
     "name": "stdout",
     "output_type": "stream",
     "text": [
      "4681272945.590259 0.1\n"
     ]
    }
   ],
   "source": [
    "data = dataPreparetionColumn(df,nomDataTransform,elimdf,True,'median_house_value')\n",
    "# alpha range from 1e-12 to 1e+5\n",
    "alphaRange = [1e-12,1e-11,1e-10,1e-09,1e-08,1e-07,1e-06,1e-05, 1e-04, 1e-03, 0.01, 0.1,0.5, 1,\n",
    "              10,100,1000,10000,1e+5] \n",
    "#divide data in K folds\n",
    "kMax = 10 #divide data for 10 external cross-validation folds\n",
    "estimateCV = []\n",
    "for alpha in alphaRange:\n",
    "    costAlpha = 0\n",
    "    for k in range(1,kMax+1):\n",
    "        #if used range(1,kMax+1), need change crossSplitTrain(data,k,kMax) to crossSplitTrain(data,k+1,kMax+1)\n",
    "        test,train = crossSplitTrain(data,k,kMax)\n",
    "        dfX,dfY = splitAnswer(train,'median_house_value',True,1)\n",
    "        testX,testY = splitAnswer(test,'median_house_value',True,1)\n",
    "        w = rr(dfX,dfY,alpha)\n",
    "        costAlpha += (kMax/len(df)) * cv_error(testX.to_numpy(),testY.to_numpy(),w)\n",
    "    estimateCV.append((1/kMax)*costAlpha)\n",
    "print(estimateCV)\n",
    "fig = plt.figure()\n",
    "plt.subplot(221)\n",
    "plt.plot(alphaRange,estimateCV)\n",
    "plt.xscale('log')\n",
    "plt.yscale('log')\n",
    "plt.title('CV Estimate')\n",
    "plt.grid(True)\n",
    "plt.subplot(222)\n",
    "plt.plot(alphaRange[2:13],estimateCV[2:13])\n",
    "plt.xscale('log')\n",
    "plt.yscale('linear')\n",
    "plt.title('Range [1e-12:0.1]')\n",
    "plt.grid(True)\n",
    "plt.subplot(223)\n",
    "plt.plot(alphaRange[10:14],estimateCV[10:14])\n",
    "plt.xscale('log')\n",
    "plt.yscale('linear')\n",
    "plt.title('Range [1e-10:1e-5]')\n",
    "plt.grid(True)\n",
    "\n",
    "\n",
    "plt.subplots_adjust(hspace=0.4, wspace=0.4)\n",
    "\n",
    "plt.show()\n",
    "print(min(estimateCV),alphaRange[estimateCV.index(min(estimateCV))])"
   ]
  },
  {
   "cell_type": "code",
   "execution_count": 54,
   "metadata": {},
   "outputs": [
    {
     "data": {
      "image/png": "[encoded data removed]",
      "text/plain": [
       "<Figure size 432x288 with 1 Axes>"
      ]
     },
     "metadata": {
      "needs_background": "light"
     },
     "output_type": "display_data"
    }
   ],
   "source": [
    "plt.plot(alphaRange,estimateCV)\n",
    "plt.xscale('log')\n",
    "plt.yscale('log')\n",
    "plt.title('CV Estimate')\n",
    "plt.grid(True)\n",
    "#plt.savefig(\"CV_Alpha.png\", dpi=400,bbox_inches='tight')"
   ]
  },
  {
   "cell_type": "code",
   "execution_count": 55,
   "metadata": {},
   "outputs": [
    {
     "data": {
      "image/png": "[encoded data removed]",
      "text/plain": [
       "<Figure size 432x288 with 1 Axes>"
      ]
     },
     "metadata": {
      "needs_background": "light"
     },
     "output_type": "display_data"
    }
   ],
   "source": [
    "plt.plot(alphaRange[2:13],estimateCV[2:13])\n",
    "plt.xscale('log')\n",
    "plt.yscale('log')\n",
    "plt.title('Range 1e-10 : 0.5')\n",
    "plt.grid(True)\n",
    "#plt.savefig(\"CV_Alpha1.png\", dpi=400,bbox_inches='tight')"
   ]
  },
  {
   "cell_type": "code",
   "execution_count": 56,
   "metadata": {},
   "outputs": [
    {
     "data": {
      "image/png": "[encoded data removed]",
      "text/plain": [
       "<Figure size 432x288 with 1 Axes>"
      ]
     },
     "metadata": {
      "needs_background": "light"
     },
     "output_type": "display_data"
    }
   ],
   "source": [
    "plt.plot(alphaRange[10:14],estimateCV[10:14])\n",
    "plt.xscale('log')\n",
    "plt.yscale('log')\n",
    "plt.title('Range 0.01 : 1')\n",
    "plt.grid(True)\n",
    "#plt.savefig(\"CV_Alpha2.png\", dpi=400,bbox_inches='tight')"
   ]
  },
  {
   "cell_type": "markdown",
   "metadata": {},
   "source": [
    "Minimum alpha parameter is mostly 0.1 but depends on our data distibuation (data is suffled each time we run dataPreparetionColumn function)"
   ]
  },
  {
   "cell_type": "markdown",
   "metadata": {},
   "source": [
    "### PCA\n",
    "\n",
    "Algorithm from Shai Shalev-Shwartz, Shai Ben-David - Understanding Machine Learning_ From Theory to Algorithms - 2014"
   ]
  },
  {
   "cell_type": "markdown",
   "metadata": {},
   "source": [
    "pseudocode from book:\n",
    "\n",
    "input\n",
    "\n",
    "A matrix of m examples X ∈ R^(m,d)\n",
    "\n",
    "number of components n\n",
    "\n",
    "\n",
    "if (m > d)\n",
    "\n",
    "    A = X^t*X      # A is cov matrix of X\n",
    "    Let u1,. . . ,un be the eigenvectors of A with largest n eigenvalues\n",
    "else\n",
    "\n",
    "    B = XX^t\n",
    "    Let v1,. . . ,vn be the eigenvectors of B with largest n eigenvalues\n",
    "    for i = 1,. . . ,n set ui = 1/(||X^t*vi||)*X^t*vi\n",
    "\n",
    "output: u1,. . . ,un"
   ]
  },
  {
   "cell_type": "markdown",
   "metadata": {},
   "source": [
    "Because rows of our data >> dimension of data, i'll use part of this code only in case of m>d"
   ]
  },
  {
   "cell_type": "markdown",
   "metadata": {},
   "source": [
    "pseudocode:\n",
    "\n",
    "input:\n",
    "\n",
    "    data, number of components n\n",
    "  \n",
    "code:\n",
    "\n",
    "    A = covariance matrix of X #(with numpy cov)\n",
    "    find eigenvectors and eigenvalues of A #(with numpy linalg.eigh(A))\n",
    "    place eigenvalues in decreasing order    \n",
    "    U = matrix of u1..un    \n",
    "    compression matrix W = U^T\n",
    "    \n",
    "output:\n",
    "\n",
    "    pca_data = data*W"
   ]
  },
  {
   "cell_type": "code",
   "execution_count": 37,
   "metadata": {},
   "outputs": [],
   "source": [
    "def pca(data, n):\n",
    "    #calc of cov matrix and eigenvectors and eigenvalues\n",
    "    A = np.cov(data, rowvar=False)\n",
    "    eva, evec = np.linalg.eigh(A)\n",
    "    #order\n",
    "    i = np.argsort(eva)[::-1]\n",
    "    evec = evec[:,i]\n",
    "    eva = eva[i]\n",
    "    #choose n\n",
    "    evec = evec[:,:n]\n",
    "    #pca data\n",
    "    D = np.dot(data, evec)\n",
    "    return D"
   ]
  },
  {
   "cell_type": "code",
   "execution_count": 114,
   "metadata": {},
   "outputs": [
    {
     "data": {
      "text/html": [
       "<div>\n",
       "<style scoped>\n",
       "    .dataframe tbody tr th:only-of-type {\n",
       "        vertical-align: middle;\n",
       "    }\n",
       "\n",
       "    .dataframe tbody tr th {\n",
       "        vertical-align: top;\n",
       "    }\n",
       "\n",
       "    .dataframe thead th {\n",
       "        text-align: right;\n",
       "    }\n",
       "</style>\n",
       "<table border=\"1\" class=\"dataframe\">\n",
       "  <thead>\n",
       "    <tr style=\"text-align: right;\">\n",
       "      <th></th>\n",
       "      <th>0</th>\n",
       "      <th>1</th>\n",
       "      <th>2</th>\n",
       "      <th>3</th>\n",
       "      <th>4</th>\n",
       "      <th>5</th>\n",
       "      <th>6</th>\n",
       "      <th>7</th>\n",
       "      <th>8</th>\n",
       "      <th>9</th>\n",
       "      <th>10</th>\n",
       "      <th>11</th>\n",
       "    </tr>\n",
       "  </thead>\n",
       "  <tbody>\n",
       "    <tr>\n",
       "      <th>0</th>\n",
       "      <td>1557.734964</td>\n",
       "      <td>308.300956</td>\n",
       "      <td>-19.488100</td>\n",
       "      <td>-3.964045</td>\n",
       "      <td>35.469478</td>\n",
       "      <td>-103.554490</td>\n",
       "      <td>-22.499191</td>\n",
       "      <td>-46.438035</td>\n",
       "      <td>13.773266</td>\n",
       "      <td>0.846264</td>\n",
       "      <td>-37.970089</td>\n",
       "      <td>-0.306293</td>\n",
       "    </tr>\n",
       "    <tr>\n",
       "      <th>1</th>\n",
       "      <td>23111.685903</td>\n",
       "      <td>144.381161</td>\n",
       "      <td>373.546609</td>\n",
       "      <td>147.485167</td>\n",
       "      <td>50.286870</td>\n",
       "      <td>-104.222753</td>\n",
       "      <td>-20.781738</td>\n",
       "      <td>-45.028054</td>\n",
       "      <td>14.320211</td>\n",
       "      <td>0.785834</td>\n",
       "      <td>-38.437287</td>\n",
       "      <td>-0.305750</td>\n",
       "    </tr>\n",
       "    <tr>\n",
       "      <th>2</th>\n",
       "      <td>5368.185004</td>\n",
       "      <td>-821.581441</td>\n",
       "      <td>-72.461002</td>\n",
       "      <td>-13.619798</td>\n",
       "      <td>44.511156</td>\n",
       "      <td>-101.870143</td>\n",
       "      <td>-27.355241</td>\n",
       "      <td>-45.661843</td>\n",
       "      <td>13.843576</td>\n",
       "      <td>0.893657</td>\n",
       "      <td>-38.168576</td>\n",
       "      <td>-0.306518</td>\n",
       "    </tr>\n",
       "    <tr>\n",
       "      <th>3</th>\n",
       "      <td>8442.035091</td>\n",
       "      <td>77.814989</td>\n",
       "      <td>4.177735</td>\n",
       "      <td>34.255037</td>\n",
       "      <td>30.733141</td>\n",
       "      <td>-102.153121</td>\n",
       "      <td>-22.006863</td>\n",
       "      <td>-46.647701</td>\n",
       "      <td>13.922155</td>\n",
       "      <td>0.716105</td>\n",
       "      <td>-38.111069</td>\n",
       "      <td>-0.306284</td>\n",
       "    </tr>\n",
       "    <tr>\n",
       "      <th>4</th>\n",
       "      <td>1364.297411</td>\n",
       "      <td>518.776290</td>\n",
       "      <td>232.936765</td>\n",
       "      <td>-51.313143</td>\n",
       "      <td>55.407190</td>\n",
       "      <td>-103.898910</td>\n",
       "      <td>-21.962570</td>\n",
       "      <td>-46.462982</td>\n",
       "      <td>13.770534</td>\n",
       "      <td>0.939431</td>\n",
       "      <td>-38.193338</td>\n",
       "      <td>-0.307556</td>\n",
       "    </tr>\n",
       "    <tr>\n",
       "      <th>...</th>\n",
       "      <td>...</td>\n",
       "      <td>...</td>\n",
       "      <td>...</td>\n",
       "      <td>...</td>\n",
       "      <td>...</td>\n",
       "      <td>...</td>\n",
       "      <td>...</td>\n",
       "      <td>...</td>\n",
       "      <td>...</td>\n",
       "      <td>...</td>\n",
       "      <td>...</td>\n",
       "      <td>...</td>\n",
       "    </tr>\n",
       "    <tr>\n",
       "      <th>20635</th>\n",
       "      <td>2225.727758</td>\n",
       "      <td>737.007233</td>\n",
       "      <td>29.613269</td>\n",
       "      <td>-31.396935</td>\n",
       "      <td>55.157285</td>\n",
       "      <td>-103.500395</td>\n",
       "      <td>-21.924702</td>\n",
       "      <td>-44.899674</td>\n",
       "      <td>14.351747</td>\n",
       "      <td>0.762757</td>\n",
       "      <td>-38.362808</td>\n",
       "      <td>-0.307576</td>\n",
       "    </tr>\n",
       "    <tr>\n",
       "      <th>20636</th>\n",
       "      <td>2943.549473</td>\n",
       "      <td>-231.409993</td>\n",
       "      <td>108.710511</td>\n",
       "      <td>-96.436706</td>\n",
       "      <td>35.610585</td>\n",
       "      <td>-108.578460</td>\n",
       "      <td>-22.574671</td>\n",
       "      <td>-44.694944</td>\n",
       "      <td>13.682984</td>\n",
       "      <td>1.082817</td>\n",
       "      <td>-37.489327</td>\n",
       "      <td>-0.304886</td>\n",
       "    </tr>\n",
       "    <tr>\n",
       "      <th>20637</th>\n",
       "      <td>863.594939</td>\n",
       "      <td>122.393045</td>\n",
       "      <td>53.029238</td>\n",
       "      <td>-0.746065</td>\n",
       "      <td>34.211489</td>\n",
       "      <td>-108.438183</td>\n",
       "      <td>-22.277545</td>\n",
       "      <td>-45.690209</td>\n",
       "      <td>14.211910</td>\n",
       "      <td>0.932537</td>\n",
       "      <td>-38.496893</td>\n",
       "      <td>-0.306951</td>\n",
       "    </tr>\n",
       "    <tr>\n",
       "      <th>20638</th>\n",
       "      <td>4915.509146</td>\n",
       "      <td>1557.249428</td>\n",
       "      <td>630.159826</td>\n",
       "      <td>-63.658552</td>\n",
       "      <td>35.765250</td>\n",
       "      <td>-104.974398</td>\n",
       "      <td>-24.430508</td>\n",
       "      <td>-46.107928</td>\n",
       "      <td>13.880480</td>\n",
       "      <td>0.879972</td>\n",
       "      <td>-38.190869</td>\n",
       "      <td>-0.306724</td>\n",
       "    </tr>\n",
       "    <tr>\n",
       "      <th>20639</th>\n",
       "      <td>9800.056598</td>\n",
       "      <td>-178.030649</td>\n",
       "      <td>-371.392391</td>\n",
       "      <td>-5.007225</td>\n",
       "      <td>25.754968</td>\n",
       "      <td>-109.786632</td>\n",
       "      <td>-21.988198</td>\n",
       "      <td>-46.328032</td>\n",
       "      <td>14.311481</td>\n",
       "      <td>0.893348</td>\n",
       "      <td>-38.563145</td>\n",
       "      <td>-0.306322</td>\n",
       "    </tr>\n",
       "  </tbody>\n",
       "</table>\n",
       "<p>20640 rows × 12 columns</p>\n",
       "</div>"
      ],
      "text/plain": [
       "                  0            1           2           3          4  \\\n",
       "0       1557.734964   308.300956  -19.488100   -3.964045  35.469478   \n",
       "1      23111.685903   144.381161  373.546609  147.485167  50.286870   \n",
       "2       5368.185004  -821.581441  -72.461002  -13.619798  44.511156   \n",
       "3       8442.035091    77.814989    4.177735   34.255037  30.733141   \n",
       "4       1364.297411   518.776290  232.936765  -51.313143  55.407190   \n",
       "...             ...          ...         ...         ...        ...   \n",
       "20635   2225.727758   737.007233   29.613269  -31.396935  55.157285   \n",
       "20636   2943.549473  -231.409993  108.710511  -96.436706  35.610585   \n",
       "20637    863.594939   122.393045   53.029238   -0.746065  34.211489   \n",
       "20638   4915.509146  1557.249428  630.159826  -63.658552  35.765250   \n",
       "20639   9800.056598  -178.030649 -371.392391   -5.007225  25.754968   \n",
       "\n",
       "                5          6          7          8         9         10  \\\n",
       "0     -103.554490 -22.499191 -46.438035  13.773266  0.846264 -37.970089   \n",
       "1     -104.222753 -20.781738 -45.028054  14.320211  0.785834 -38.437287   \n",
       "2     -101.870143 -27.355241 -45.661843  13.843576  0.893657 -38.168576   \n",
       "3     -102.153121 -22.006863 -46.647701  13.922155  0.716105 -38.111069   \n",
       "4     -103.898910 -21.962570 -46.462982  13.770534  0.939431 -38.193338   \n",
       "...           ...        ...        ...        ...       ...        ...   \n",
       "20635 -103.500395 -21.924702 -44.899674  14.351747  0.762757 -38.362808   \n",
       "20636 -108.578460 -22.574671 -44.694944  13.682984  1.082817 -37.489327   \n",
       "20637 -108.438183 -22.277545 -45.690209  14.211910  0.932537 -38.496893   \n",
       "20638 -104.974398 -24.430508 -46.107928  13.880480  0.879972 -38.190869   \n",
       "20639 -109.786632 -21.988198 -46.328032  14.311481  0.893348 -38.563145   \n",
       "\n",
       "             11  \n",
       "0     -0.306293  \n",
       "1     -0.305750  \n",
       "2     -0.306518  \n",
       "3     -0.306284  \n",
       "4     -0.307556  \n",
       "...         ...  \n",
       "20635 -0.307576  \n",
       "20636 -0.304886  \n",
       "20637 -0.306951  \n",
       "20638 -0.306724  \n",
       "20639 -0.306322  \n",
       "\n",
       "[20640 rows x 12 columns]"
      ]
     },
     "execution_count": 114,
     "metadata": {},
     "output_type": "execute_result"
    }
   ],
   "source": [
    "data = dataPreparetionColumn(df,nomDataTransform,meandf,False,'median_house_value')\n",
    "dataX,dataY = splitAnswer(data,'median_house_value',False)\n",
    "pca_data = pca(dataX,12)\n",
    "pca_data = pd.DataFrame(pca_data)\n",
    "pca_data"
   ]
  },
  {
   "cell_type": "code",
   "execution_count": 180,
   "metadata": {
    "scrolled": true
   },
   "outputs": [
    {
     "name": "stdout",
     "output_type": "stream",
     "text": [
      "[4737590353.680726, 11349879956.417007, 10094168239.020687, 10089461115.701788, 9919852929.760214, 9908377663.394674, 5464609608.352848, 5285762506.809704, 5180781569.259751, 5171734643.406429, 5116413401.724027, 4754390378.694287, 4737590353.680397, 4737590353.680397]\n",
      "12  from max  13\n"
     ]
    },
    {
     "data": {
      "image/png": "[encoded data removed]",
      "text/plain": [
       "<Figure size 432x288 with 1 Axes>"
      ]
     },
     "metadata": {
      "needs_background": "light"
     },
     "output_type": "display_data"
    }
   ],
   "source": [
    "data = dataPreparetionColumn(df,nomDataTransform,meandf,True,'median_house_value')\n",
    "alpha = 0.1\n",
    "#divide data in K folds\n",
    "kMax = 10 #divide data for 10 external cross-validation folds\n",
    "estimateCV = []\n",
    "for n in range(0,len(data.columns)):   #when n = 0 no PCA\n",
    "    if n == 0:\n",
    "        pca_data = data\n",
    "    else:\n",
    "        dataX,dataY = splitAnswer(data,'median_house_value',False)\n",
    "        pca_data = pca(dataX,n)\n",
    "        pca_data = pd.DataFrame(pca_data)\n",
    "        pca_data.insert(1, 'median_house_value', dataY, True)\n",
    "    costPCA = 0\n",
    "    for k in range(1,kMax+1): \n",
    "        test,train = crossSplitTrain(pca_data,k,kMax)\n",
    "        dfX,dfY = splitAnswer(train,'median_house_value',True,1)\n",
    "        testX,testY = splitAnswer(test,'median_house_value',True,1)\n",
    "        w = rr(dfX,dfY,alpha)\n",
    "        costPCA += (kMax/len(data)) * cv_error(testX.to_numpy(),testY.to_numpy(),w)\n",
    "    estimateCV.append((1/kMax)*costPCA)\n",
    "print(estimateCV)\n",
    "print(np.array(estimateCV).argmin(),' from max ',len(data.columns)-1)\n",
    "fig = plt.figure()\n",
    "plt.subplot(221)\n",
    "plt.plot(range(0,len(data.columns)),estimateCV)\n",
    "plt.xscale('linear')\n",
    "plt.yscale('log')\n",
    "plt.title('CV Estimate')\n",
    "plt.grid(True)\n",
    "\n",
    "plt.subplots_adjust(hspace=0.4, wspace=0.4)\n",
    "\n",
    "plt.show()"
   ]
  },
  {
   "cell_type": "code",
   "execution_count": 181,
   "metadata": {},
   "outputs": [
    {
     "data": {
      "image/png": "[encoded data removed]",
      "text/plain": [
       "<Figure size 432x288 with 1 Axes>"
      ]
     },
     "metadata": {
      "needs_background": "light"
     },
     "output_type": "display_data"
    }
   ],
   "source": [
    "plt.plot(range(0,len(data.columns)),estimateCV)\n",
    "plt.xscale('linear')\n",
    "plt.yscale('log')\n",
    "plt.title('PCA')\n",
    "plt.grid(True)\n",
    "#plt.savefig(\"PCA.png\", dpi=400,bbox_inches='tight')"
   ]
  },
  {
   "cell_type": "markdown",
   "metadata": {},
   "source": [
    "### Study the dependence of the cross-validated risk estimate on the parameter alpha of ridge regression after using of PCA\n",
    "PCA parameter is 12"
   ]
  },
  {
   "cell_type": "code",
   "execution_count": 39,
   "metadata": {},
   "outputs": [
    {
     "name": "stdout",
     "output_type": "stream",
     "text": [
      "[4730227631.758006, 4730227631.757855, 4730227631.756352, 4730227631.741321, 4730227631.590996, 4730227630.087761, 4730227615.055448, 4730227464.737277, 4730225962.051082, 4730210984.706603, 4730066128.190366, 4729076712.333309, 4732098707.714327, 4745424300.080989, 4989067204.558733, 5550318934.385882, 8356547185.117934, 16476769925.613962, 43478136941.147606]\n"
     ]
    },
    {
     "data": {
      "image/png": "[encoded data removed]",
      "text/plain": [
       "<Figure size 432x288 with 3 Axes>"
      ]
     },
     "metadata": {
      "needs_background": "light"
     },
     "output_type": "display_data"
    },
    {
     "name": "stdout",
     "output_type": "stream",
     "text": [
      "4729076712.333309 0.1\n"
     ]
    }
   ],
   "source": [
    "data = dataPreparetionColumn(df,nomDataTransform,elimdf,True,'median_house_value')\n",
    "dataX,dataY = splitAnswer(data,'median_house_value',False)\n",
    "pca_data = pca(dataX,12)\n",
    "pca_data = pd.DataFrame(pca_data)\n",
    "pca_data.insert(1, 'median_house_value', dataY, True)\n",
    "# alpha range from 1e-12 to 1e+5\n",
    "alphaRange = [1e-12,1e-11,1e-10,1e-09,1e-08,1e-07,1e-06,1e-05, 1e-04, 1e-03, 0.01, 0.1,0.5, 1,\n",
    "              10,100,1000,10000,1e+5] \n",
    "#divide data in K folds\n",
    "kMax = 10 #divide data for 10 external cross-validation folds\n",
    "estimateCV = []\n",
    "for alpha in alphaRange:\n",
    "    costAlpha = 0\n",
    "    for k in range(1,kMax+1): \n",
    "        test,train = crossSplitTrain(pca_data,k,kMax)\n",
    "        dfX,dfY = splitAnswer(train,'median_house_value',True,1)\n",
    "        testX,testY = splitAnswer(test,'median_house_value',True,1)\n",
    "        w = rr(dfX,dfY,alpha)\n",
    "        costAlpha += (kMax/len(pca_data)) * cv_error(testX.to_numpy(),testY.to_numpy(),w)\n",
    "    estimateCV.append((1/kMax)*costAlpha)\n",
    "print(estimateCV)\n",
    "fig = plt.figure()\n",
    "plt.subplot(221)\n",
    "plt.plot(alphaRange,estimateCV)\n",
    "plt.xscale('log')\n",
    "plt.yscale('log')\n",
    "plt.title('CV Estimate')\n",
    "plt.grid(True)\n",
    "plt.subplot(222)\n",
    "plt.plot(alphaRange[2:13],estimateCV[2:13])\n",
    "plt.xscale('log')\n",
    "plt.yscale('linear')\n",
    "plt.title('Range [1e-10:0.5]')\n",
    "plt.grid(True)\n",
    "plt.subplot(223)\n",
    "plt.plot(alphaRange[10:14],estimateCV[10:14])\n",
    "plt.xscale('log')\n",
    "plt.yscale('linear')\n",
    "plt.title('Range [0.01:1]')\n",
    "plt.grid(True)\n",
    "\n",
    "\n",
    "plt.subplots_adjust(hspace=0.4, wspace=0.4)\n",
    "\n",
    "plt.show()\n",
    "print(min(estimateCV),alphaRange[estimateCV.index(min(estimateCV))])"
   ]
  },
  {
   "cell_type": "code",
   "execution_count": 34,
   "metadata": {},
   "outputs": [
    {
     "data": {
      "image/png": "[encoded data removed]",
      "text/plain": [
       "<Figure size 432x288 with 1 Axes>"
      ]
     },
     "metadata": {
      "needs_background": "light"
     },
     "output_type": "display_data"
    }
   ],
   "source": [
    "plt.plot(alphaRange,estimateCV)\n",
    "plt.xscale('log')\n",
    "plt.yscale('log')\n",
    "plt.title('CV Estimate with PCA')\n",
    "plt.grid(True)\n",
    "#plt.savefig(\"CV_PCA.png\", dpi=400,bbox_inches='tight')"
   ]
  },
  {
   "cell_type": "markdown",
   "metadata": {},
   "source": [
    "### Finding alpha parameter with nested Cross-Validation"
   ]
  },
  {
   "cell_type": "markdown",
   "metadata": {},
   "source": [
    "By using row elimination + nominal transformation"
   ]
  },
  {
   "cell_type": "code",
   "execution_count": 38,
   "metadata": {},
   "outputs": [
    {
     "name": "stdout",
     "output_type": "stream",
     "text": [
      "0.1 4708239781.563938\n",
      "0.01 4845264685.958866\n",
      "0.1 4725795111.117155\n",
      "0.1 4626201280.745333\n",
      "0.1 4716438669.089169\n",
      "best alpha;   loss\n",
      "0.1     4626201280.745333\n"
     ]
    }
   ],
   "source": [
    "data = dataPreparetionColumn(df,nomDataTransform,elimdf,True,'median_house_value')\n",
    "dataX,dataY = splitAnswer(data,'median_house_value',False)\n",
    "pca_data = pca(dataX,12)\n",
    "pca_data = pd.DataFrame(pca_data)\n",
    "pca_data.insert(1, 'median_house_value', dataY, True)\n",
    "alphaRange = [1e-12,1e-11,1e-10,1e-09,1e-08,1e-07,1e-06,1e-05, 1e-04, 1e-03, 0.01, 0.1,0.5, 1,\n",
    "              10,100,1000,10000,1e+5] \n",
    "kMax = 5 #divide data for 5 external cross-validation folds\n",
    "lMax = 10 #divide data for 10 internal cross-validation folds\n",
    "alphaParam = []\n",
    "costParam = []\n",
    "for k in range(1,kMax+1): \n",
    "    test,train = crossSplitTrain(pca_data,k,kMax)\n",
    "    intCVEstimate = []\n",
    "    for l in range(1,lMax+1):\n",
    "        ctest,ctrain = crossSplitTrain(train,l,lMax)\n",
    "        dfX,dfY = splitAnswer(ctrain,'median_house_value',True,1)\n",
    "        testX,testY = splitAnswer(ctest,'median_house_value',True,1)\n",
    "        intCostParam = []\n",
    "        for alpha in alphaRange:\n",
    "            w = rr(dfX,dfY,alpha)\n",
    "            intCostParam.append((lMax/len(train)) * cv_error(testX.to_numpy(),testY.to_numpy(),w))\n",
    "        intCVEstimate.append(intCostParam)\n",
    "    matrix = np.matrix(intCVEstimate)\n",
    "    matrix = matrix.sum(axis = 0)/lMax\n",
    "    dfX,dfY = splitAnswer(train,'median_house_value',True,1)\n",
    "    testX,testY = splitAnswer(test,'median_house_value',True,1)\n",
    "    matrix = matrix.A1\n",
    "    #alpha = matrix.argmin() + 1\n",
    "    alpha = alphaRange[matrix.argmin()]\n",
    "    w = rr(dfX,dfY,alpha)\n",
    "    cost = (kMax/len(pca_data))*cv_error(testX.to_numpy(),testY.to_numpy(),w)\n",
    "    alphaParam.append(alpha)\n",
    "    costParam.append(cost)\n",
    "    print(alpha, cost)\n",
    "costParam = np.array(costParam)\n",
    "param = alphaParam[costParam.argmin()]\n",
    "print(\"best alpha;   loss\")\n",
    "print(param, '   ', costParam.min())"
   ]
  },
  {
   "cell_type": "markdown",
   "metadata": {},
   "source": [
    "### Check results with Sklearn RidgeCV"
   ]
  },
  {
   "cell_type": "code",
   "execution_count": 58,
   "metadata": {},
   "outputs": [
    {
     "name": "stdout",
     "output_type": "stream",
     "text": [
      "0.5     4729041668.514207\n",
      "\n"
     ]
    },
    {
     "data": {
      "image/png": "[encoded data removed]",
      "text/plain": [
       "<Figure size 432x288 with 1 Axes>"
      ]
     },
     "metadata": {
      "needs_background": "light"
     },
     "output_type": "display_data"
    },
    {
     "data": {
      "image/png": "[encoded data removed]",
      "text/plain": [
       "<Figure size 432x288 with 1 Axes>"
      ]
     },
     "metadata": {
      "needs_background": "light"
     },
     "output_type": "display_data"
    }
   ],
   "source": [
    "from sklearn.linear_model import RidgeCV\n",
    "\n",
    "data = dataPreparetionColumn(df,nomDataTransform,elimdf,False,'median_house_value')\n",
    "alphaRange = [1e-12,1e-11,1e-10,1e-09,1e-08,1e-07,1e-06,1e-05, 1e-04, 1e-03, 0.01, 0.1,0.5, 1,\n",
    "              10,100,1000,10000,1e+5] \n",
    "dataX,dataY = splitAnswer(data,'median_house_value',0)\n",
    "clf = RidgeCV(alphas=alphaRange, store_cv_values = True).fit(dataX,dataY)\n",
    "cvv = clf.cv_values_.sum(axis = 0)/clf.cv_values_.shape[0]\n",
    "print(clf.alpha_, '   ', np.min(cvv))\n",
    "print()\n",
    "plt.plot(alphaRange,cvv)\n",
    "plt.xscale('log')\n",
    "plt.yscale('log')\n",
    "plt.title('CV Estimate')\n",
    "plt.grid(True)\n",
    "plt.show()\n",
    "\n",
    "plt.plot(alphaRange[2:14],cvv[2:14])\n",
    "plt.xscale('log')\n",
    "plt.yscale('log')\n",
    "plt.title('Range [1e-10:0.5]')\n",
    "plt.grid(True)\n",
    "plt.show()"
   ]
  },
  {
   "cell_type": "code",
   "execution_count": 60,
   "metadata": {},
   "outputs": [
    {
     "data": {
      "image/png": "[encoded data removed]",
      "text/plain": [
       "<Figure size 432x288 with 1 Axes>"
      ]
     },
     "metadata": {
      "needs_background": "light"
     },
     "output_type": "display_data"
    }
   ],
   "source": [
    "plt.plot(alphaRange[2:14],cvv[2:14])\n",
    "plt.xscale('log')\n",
    "plt.yscale('log')\n",
    "plt.title('Range [1e-10:0.5]')\n",
    "plt.grid(True)\n",
    "#plt.savefig(\"CV_SK1.png\", dpi=400,bbox_inches='tight')"
   ]
  }
 ],
 "metadata": {
  "kernelspec": {
   "display_name": "Python 3",
   "language": "python",
   "name": "python3"
  },
  "language_info": {
   "codemirror_mode": {
    "name": "ipython",
    "version": 3
   },
   "file_extension": ".py",
   "mimetype": "text/x-python",
   "name": "python",
   "nbconvert_exporter": "python",
   "pygments_lexer": "ipython3",
   "version": "3.7.4"
  }
 },
 "nbformat": 4,
 "nbformat_minor": 2
}
